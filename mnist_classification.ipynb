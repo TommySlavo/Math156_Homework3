{
 "cells": [
  {
   "cell_type": "code",
   "execution_count": 5,
   "id": "acdaa78e",
   "metadata": {},
   "outputs": [],
   "source": [
    "import numpy as np\n",
    "import layers\n",
    "import activations\n",
    "import nn\n",
    "import losses\n",
    "import optimizers"
   ]
  },
  {
   "cell_type": "code",
   "execution_count": null,
   "id": "8290b0fc",
   "metadata": {},
   "outputs": [],
   "source": []
  },
  {
   "cell_type": "code",
   "execution_count": 6,
   "id": "748e870c",
   "metadata": {},
   "outputs": [
    {
     "name": "stdout",
     "output_type": "stream",
     "text": [
      "Epoch 0, Loss: 20561.30839480073\n",
      "Epoch 1, Loss: 15329.16865518576\n",
      "Epoch 2, Loss: 13016.503911247257\n",
      "Epoch 3, Loss: 12627.11834164127\n",
      "Epoch 4, Loss: 13784.897569363377\n",
      "Epoch 5, Loss: 9562.954604119162\n",
      "Epoch 6, Loss: 11086.92425649095\n",
      "Epoch 7, Loss: 11580.34562876645\n",
      "Epoch 8, Loss: 11736.44187044294\n",
      "Epoch 9, Loss: 12009.82746244001\n",
      "Epoch 10, Loss: 9210.030036966333\n",
      "Epoch 11, Loss: 10788.14742380361\n",
      "Epoch 12, Loss: 10285.673258755416\n",
      "Epoch 13, Loss: 11247.47915614833\n",
      "Epoch 14, Loss: 7785.135938001841\n",
      "Epoch 15, Loss: 9682.176318832648\n",
      "Epoch 16, Loss: 9670.676274082518\n",
      "Epoch 17, Loss: 7584.882236186139\n",
      "Epoch 18, Loss: 7863.24350328329\n",
      "Epoch 19, Loss: 8025.159364906292\n",
      "Epoch 20, Loss: 7821.2268992362715\n",
      "Epoch 21, Loss: 6909.542104424252\n",
      "Epoch 22, Loss: 5932.964552300718\n",
      "Epoch 23, Loss: 6693.518632612201\n",
      "Epoch 24, Loss: 6761.000781771546\n",
      "Epoch 25, Loss: 6678.796934950145\n",
      "Epoch 26, Loss: 7676.92397781559\n",
      "Epoch 27, Loss: 7351.6501366865805\n",
      "Epoch 28, Loss: 7257.10321179194\n",
      "Epoch 29, Loss: 5809.784190697175\n",
      "Accuracy: 0.9626\n"
     ]
    }
   ],
   "source": [
    "from tensorflow.keras.datasets import mnist\n",
    "import numpy as np\n",
    "\n",
    "# Load and preprocess the MNIST dataset\n",
    "(X_train, y_train), (X_test, y_test) = mnist.load_data()\n",
    "X_train = X_train.reshape(-1, 784) / 255.0\n",
    "X_test = X_test.reshape(-1, 784) / 255.0\n",
    "\n",
    "# Convert labels to one-hot encoded vectors\n",
    "def one_hot_encode(labels, num_classes):\n",
    "    num_samples = labels.shape[0]\n",
    "    encoded_labels = np.zeros((num_samples, num_classes))\n",
    "    for i in range(num_samples):\n",
    "        encoded_labels[i, labels[i]] = 1\n",
    "    return encoded_labels\n",
    "\n",
    "num_classes = 10\n",
    "y_train_one_hot = one_hot_encode(y_train, num_classes)\n",
    "y_test_one_hot = one_hot_encode(y_test, num_classes)\n",
    "\n",
    "\n",
    "# Create the model\n",
    "input_size = 784\n",
    "num_units = 128\n",
    "model = nn.Sequential()\n",
    "model.add(layers.InputLayer(input_shape=input_size))\n",
    "model.add(layers.Dense(input_size, num_units, activation=activations.Sigmoid, optimizer=optimizers.RMSprop))\n",
    "model.add(layers.Dense(num_units, num_classes, activation=activations.Softmax, optimizer=optimizers.RMSprop))\n",
    "\n",
    "# Train the model\n",
    "epochs = 30\n",
    "learning_rate = 0.1\n",
    "batch_size = 128\n",
    "model.train(X_train.T, y_train_one_hot.T, epochs, learning_rate, batch_size, loss=losses.Cross_Entropy)\n",
    "\n",
    "# Make predictions\n",
    "predictions = model.predict(X_test.T)\n",
    "\n",
    "# Convert predictions to class labels\n",
    "predicted_labels = np.argmax(predictions, axis=0)\n",
    "\n",
    "# Calculate accuracy\n",
    "accuracy = np.mean(predicted_labels == y_test)\n",
    "print(\"Accuracy:\", accuracy)"
   ]
  },
  {
   "cell_type": "code",
   "execution_count": null,
   "id": "37840c7d",
   "metadata": {},
   "outputs": [],
   "source": []
  }
 ],
 "metadata": {
  "kernelspec": {
   "display_name": "Python 3",
   "language": "python",
   "name": "python3"
  },
  "language_info": {
   "codemirror_mode": {
    "name": "ipython",
    "version": 3
   },
   "file_extension": ".py",
   "mimetype": "text/x-python",
   "name": "python",
   "nbconvert_exporter": "python",
   "pygments_lexer": "ipython3",
   "version": "3.11.3"
  },
  "vscode": {
   "interpreter": {
    "hash": "aee8b7b246df8f9039afb4144a1f6fd8d2ca17a180786b69acc140d282b71a49"
   }
  }
 },
 "nbformat": 4,
 "nbformat_minor": 5
}

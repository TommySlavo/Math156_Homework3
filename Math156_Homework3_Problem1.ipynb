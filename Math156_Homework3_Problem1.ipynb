{
  "nbformat": 4,
  "nbformat_minor": 0,
  "metadata": {
    "colab": {
      "provenance": []
    },
    "kernelspec": {
      "name": "python3",
      "display_name": "Python 3"
    },
    "language_info": {
      "name": "python"
    }
  },
  "cells": [
    {
      "cell_type": "code",
      "execution_count": 142,
      "metadata": {
        "id": "ZvRcsYzL4OpL"
      },
      "outputs": [],
      "source": [
        "import numpy as np\n",
        "import random"
      ]
    },
    {
      "cell_type": "code",
      "source": [
        "def func(x):\n",
        "  if x <= 1:\n",
        "    return 3\n",
        "  if 1 < x <= 2:\n",
        "    return 4-x\n",
        "  if 2 < x <= 3:\n",
        "    return 2\n",
        "  if 3 < x <= 4:\n",
        "    return 5-x\n",
        "\n",
        "  return x-3"
      ],
      "metadata": {
        "id": "1WZXkNc94aAu"
      },
      "execution_count": 143,
      "outputs": []
    },
    {
      "cell_type": "code",
      "source": [
        "def  gradf(x):\n",
        "  if x <= 1:\n",
        "    return 0\n",
        "  if 1 < x <= 2:\n",
        "    return -1\n",
        "  if 2 < x <= 3:\n",
        "    return 0\n",
        "  if 3 < x <= 4:\n",
        "    return -1\n",
        "\n",
        "  return 1"
      ],
      "metadata": {
        "id": "8FluI0qF5bK3"
      },
      "execution_count": 144,
      "outputs": []
    },
    {
      "cell_type": "code",
      "source": [
        "def gradientDescent(point, learningRate, maxIter, tol):\n",
        "  iterations = 0\n",
        "  point_prev = point + 1\n",
        "  while iterations <= maxIter:\n",
        "    point_prev = point\n",
        "    point = point - learningRate*gradf(point)\n",
        "    iterations += 1\n",
        "\n",
        "  return point, func(point)\n"
      ],
      "metadata": {
        "id": "fxFGlDyn5z4U"
      },
      "execution_count": 145,
      "outputs": []
    },
    {
      "cell_type": "code",
      "source": [
        "def gradientDescentMomentum(point, learningRate, beta, maxIter, tol, v = 0):\n",
        "  iterations = 0\n",
        "\n",
        "  if learningRate < 0:\n",
        "    learningRate = np.abs(learningRate)\n",
        "\n",
        "  if learningRate == 0:\n",
        "    learningRate = random.uniform(0,1)\n",
        "\n",
        "  if beta < 0 or 1 <= beta:\n",
        "    beta = random.uniform(0,1)\n",
        "\n",
        "  point_prev = point + 1\n",
        "  while iterations <= maxIter:\n",
        "    v = beta*v+(1-beta)*gradf(point)\n",
        "    point_prev = point\n",
        "    point = point - learningRate*v\n",
        "    iterations += 1\n",
        "\n",
        "  return point, func(point)\n"
      ],
      "metadata": {
        "id": "8NFDSfd8Akaj"
      },
      "execution_count": 146,
      "outputs": []
    },
    {
      "cell_type": "code",
      "source": [
        "print(gradientDescent(1.1, 2.2, 10000000, 1*np.exp(-6)))\n",
        "print(gradientDescentMomentum(1.1, 2.2, 0.95, 1000000, 1*np.exp(-6)))"
      ],
      "metadata": {
        "colab": {
          "base_uri": "https://localhost:8080/"
        },
        "id": "HGw7p3S-FHZx",
        "outputId": "8c40947e-710e-4c93-fe89-b1b1f7561f76"
      },
      "execution_count": 147,
      "outputs": [
        {
          "output_type": "stream",
          "name": "stdout",
          "text": [
            "(3.3, 1.7000000000000002)\n",
            "(4.04692531406184, 1.0469253140618404)\n"
          ]
        }
      ]
    },
    {
      "cell_type": "markdown",
      "source": [
        "The minimum value that the function can achieve is 1, but due to the disconnected nature of the function we have various sections that are difficult to escape. Therefore, I set the learning rate relatively large and then ran the program and saw that the gradient descent with momentum converged much closer to the minimum than the gradient descent algorithm."
      ],
      "metadata": {
        "id": "BM5a5MOEs7w4"
      }
    }
  ]
}